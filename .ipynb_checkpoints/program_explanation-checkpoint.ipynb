{
 "cells": [
  {
   "cell_type": "markdown",
   "id": "f863c790",
   "metadata": {},
   "source": [
    "# Import"
   ]
  },
  {
   "cell_type": "code",
   "execution_count": 1,
   "id": "cd7a3179",
   "metadata": {},
   "outputs": [],
   "source": [
    "import pandas as pd\n",
    "import spotipy\n",
    "from spotipy.oauth2 import SpotifyClientCredentials\n",
    "import json\n",
    "import numpy as np\n",
    "import re\n",
    "import random\n",
    "import spotify_helper_functions\n",
    "import clustering_music\n",
    "from difflib import get_close_matches"
   ]
  },
  {
   "cell_type": "code",
   "execution_count": 19,
   "id": "14ff6bd0",
   "metadata": {},
   "outputs": [],
   "source": [
    "n = 5"
   ]
  },
  {
   "cell_type": "markdown",
   "id": "32e8e30f",
   "metadata": {},
   "source": [
    "### Functions that are in the module"
   ]
  },
  {
   "cell_type": "code",
   "execution_count": 2,
   "id": "15d8b031",
   "metadata": {},
   "outputs": [],
   "source": [
    "def import_top_songs(path=\"top_songs.csv\"):\n",
    "    top_df = pd.read_csv(path, index_col=0)\n",
    "    top_df = top_df.applymap(lambda x: x.lower())\n",
    "    \n",
    "    return top_df\n",
    "\n",
    "def import_spotify_df(path=\"spotify_songs.csv\"):\n",
    "    df = pd.read_csv(path, index_col=0)\n",
    "    df[\"song_name\"] = df[\"song_name\"].apply(lambda x: x.lower())\n",
    "    df[\"artist_name\"] = df[\"artist_name\"].apply(lambda x: x.lower())\n",
    "    return df\n",
    "\n",
    "\n",
    "def is_similar(user_input, name_series):\n",
    "    \"\"\"\n",
    "    Finds if a name is similar to a pandas series that is given as input. It uses a built in algorithm that\n",
    "    checks the similarity of sequences, through the Function get_close_matches.\n",
    "    Input: the name (song or artist) we would like to search for, and the series.\n",
    "    Output: a list with the name or names that is similar or equal, if it finds it; empty list if there are no close matches.\n",
    "    \"\"\"\n",
    "    #We extract the list of names from the series which we get as an input, and make them lowecase. \n",
    "    #We also remove special characters using the translate string method\n",
    "    name_list = name_series.to_list()\n",
    "\n",
    "\n",
    "    # The function will return the closest matches in the list, or an empty list if there are none\n",
    "    close_matches = get_close_matches(user_input, name_list, n=3, cutoff=0.90)\n",
    "\n",
    "    return close_matches\n",
    "\n",
    "def is_top_song(user_input, df):\n",
    "\n",
    "    song_series = df[\"songs\"]\n",
    "\n",
    "    return is_similar(user_input, song_series)\n",
    "\n",
    "\n",
    "def is_spotify_song(user_input, df):\n",
    "\n",
    "    song_series = df[\"song_name\"]\n",
    "\n",
    "    matches = is_similar(user_input, song_series)\n",
    "\n",
    "    if matches == []:\n",
    "        return []\n",
    "    else:\n",
    "        list_ids = []\n",
    "        match_series = df.loc[df[\"song_name\"] == matches[0], \"song_id\"]\n",
    "        for song_id in match_series:\n",
    "            list_ids.append(song_id)\n",
    "        return list_ids\n",
    "\n",
    "def choice(options, df, sp, names_or_ids=\"ids\"):\n",
    "    print(\"Select one of the following choices:\")\n",
    "    \n",
    "    if names_or_ids == \"names\":\n",
    "        for index, item in enumerate(options):\n",
    "            print(f\"Option {index + 1} - {item}\")\n",
    "        while True:\n",
    "            try:\n",
    "                choice = int(input(\"Selection: \"))\n",
    "                if choice >= 1 and choice <= len(options):\n",
    "                    return options[choice-1]\n",
    "            except:\n",
    "                continue\n",
    "    else:\n",
    "        #Second case, list with song_ids. We return the song_id\n",
    "\n",
    "        for index, song_id in enumerate(options):\n",
    "            song_name, artist_name = spotify_helper_functions.get_song_info(song_id, sp)\n",
    "            print(f\"Option {index + 1} - {song_name} by {artist_name}\")\n",
    "        while True:\n",
    "                try:\n",
    "                    choice = int(input(\"Selection: \"))\n",
    "                    if choice >= 1 and choice <= len(options):\n",
    "                        return options[choice-1]\n",
    "                except:\n",
    "                    continue\n",
    "\n",
    "\n",
    "\n",
    "def recommend_top_song(song_name, df):\n",
    "    while True:  # Loop so we don't recommend the same song the user inputs.\n",
    "        random_row = random.choice(range(len(df)))\n",
    "        random_song = df.iloc[random_row, 0]\n",
    "        random_artist = df.iloc[random_row, 1]\n",
    "\n",
    "        if random_song != song_name:\n",
    "            break\n",
    "\n",
    "    print(f\"TOP recommendation! A similar song to {song_name.capitalize()} that you might \\\n",
    "like is {random_song.capitalize()}, by {random_artist.capitalize()}.\")\n",
    "\n",
    "    return {\"song_name\":random_song, \"artist_name\":random_artist}\n",
    "\n",
    "\n",
    "def recommend_spotify_song(song_id, df, model, sp_connection):\n",
    "\n",
    "    modeling_df = df.drop(columns=[\"song_name\", \"artist_name\", \"artist_id\", \"song_id\"])\n",
    "    clusters = model.predict(modeling_df)\n",
    "\n",
    "    data = {\"song_name\": df[\"song_name\"], \"song_id\": df[\"song_id\"], \"artist_name\": df[\"artist_name\"],\n",
    "     \"artist_id\": df[\"artist_id\"], \"cluster\": clusters}\n",
    "\n",
    "    names_ids_df = pd.DataFrame(data=data)\n",
    "\n",
    "    if song_id in names_ids_df[\"song_id\"]:\n",
    "        recommendation_cluster = names_ids_df.loc[names_ids_df[\"song_id\"] == song_id, \"cluster\"].unique()[0]\n",
    "    else:\n",
    "        attributes = spotify_helper_functions.get_songs_attributes(song_id, sp_connection)\n",
    "        row = pd.DataFrame(data=attributes, index=modeling_df.columns)\n",
    "        recommendation_cluster = model.predict(row)[0]\n",
    "\n",
    "    mask = names_ids_df[\"cluster\"] == recommendation_cluster\n",
    "    recommendation_df = names_ids_df.loc[mask, [\"song_name\", \"artist_name\", \"artist_id\", \"song_id\", \"cluster\"]]\n",
    "\n",
    "    random_row = random.choice(range(len(recommendation_df)))\n",
    "\n",
    "    song_rec_name = names_ids_df.iloc[random_row, 0].capitalize()\n",
    "    song_rec_artist = names_ids_df.iloc[random_row, 2].capitalize()\n",
    "    song_rec_id = names_ids_df.iloc[random_row, 1]\n",
    "\n",
    "    print(f\"Spotify recommendation! A song you might like is {song_rec_name}, by {song_rec_artist}! \")\n",
    "    \n",
    "    return song_rec_id, song_rec_name, song_rec_artist\n",
    "\n"
   ]
  },
  {
   "cell_type": "markdown",
   "id": "041dd52f",
   "metadata": {},
   "source": [
    "# Program flow"
   ]
  },
  {
   "cell_type": "markdown",
   "id": "e22864a5",
   "metadata": {},
   "source": [
    "1. Creating the Spotify connection"
   ]
  },
  {
   "cell_type": "code",
   "execution_count": 3,
   "id": "57423c0e",
   "metadata": {},
   "outputs": [],
   "source": [
    "sp = spotify_helper_functions.spotify_connection()"
   ]
  },
  {
   "cell_type": "markdown",
   "id": "49c6f723",
   "metadata": {},
   "source": [
    "2. Loading both datasets: for top songs and spotify songs"
   ]
  },
  {
   "cell_type": "code",
   "execution_count": 4,
   "id": "d466e741",
   "metadata": {},
   "outputs": [],
   "source": [
    "top_df = import_top_songs(path=\"top_songs.csv\")\n",
    "spotify_df = import_spotify_df(path=\"spotify_songs.csv\")"
   ]
  },
  {
   "cell_type": "code",
   "execution_count": 5,
   "id": "03fbee4d",
   "metadata": {
    "scrolled": true
   },
   "outputs": [
    {
     "name": "stdout",
     "output_type": "stream",
     "text": [
      "<class 'pandas.core.frame.DataFrame'>\n",
      "Int64Index: 171 entries, 0 to 170\n",
      "Data columns (total 2 columns):\n",
      " #   Column   Non-Null Count  Dtype \n",
      "---  ------   --------------  ----- \n",
      " 0   songs    171 non-null    object\n",
      " 1   artists  171 non-null    object\n",
      "dtypes: object(2)\n",
      "memory usage: 4.0+ KB\n"
     ]
    }
   ],
   "source": [
    "top_df.info()"
   ]
  },
  {
   "cell_type": "code",
   "execution_count": 6,
   "id": "a4bb1c37",
   "metadata": {
    "scrolled": true
   },
   "outputs": [
    {
     "name": "stdout",
     "output_type": "stream",
     "text": [
      "<class 'pandas.core.frame.DataFrame'>\n",
      "Int64Index: 116107 entries, 0 to 137510\n",
      "Data columns (total 15 columns):\n",
      " #   Column            Non-Null Count   Dtype  \n",
      "---  ------            --------------   -----  \n",
      " 0   song_name         116107 non-null  object \n",
      " 1   song_id           116107 non-null  object \n",
      " 2   artist_name       116107 non-null  object \n",
      " 3   artist_id         116107 non-null  object \n",
      " 4   danceability      116107 non-null  float64\n",
      " 5   energy            116107 non-null  float64\n",
      " 6   key               116107 non-null  int64  \n",
      " 7   loudness          116107 non-null  float64\n",
      " 8   mode              116107 non-null  int64  \n",
      " 9   speechiness       116107 non-null  float64\n",
      " 10  acousticness      116107 non-null  float64\n",
      " 11  instrumentalness  116107 non-null  float64\n",
      " 12  liveness          116107 non-null  float64\n",
      " 13  valence           116107 non-null  float64\n",
      " 14  tempo             116107 non-null  float64\n",
      "dtypes: float64(9), int64(2), object(4)\n",
      "memory usage: 14.2+ MB\n"
     ]
    }
   ],
   "source": [
    "spotify_df.info()"
   ]
  },
  {
   "cell_type": "markdown",
   "id": "58a4f3fe",
   "metadata": {},
   "source": [
    "3. Load the clustering model"
   ]
  },
  {
   "cell_type": "code",
   "execution_count": 7,
   "id": "01fa9090",
   "metadata": {},
   "outputs": [],
   "source": [
    "model = clustering_music.load_model(path=\"music_model.pkl\")"
   ]
  },
  {
   "cell_type": "markdown",
   "id": "03d6aa2d",
   "metadata": {},
   "source": [
    "4. Get the user input"
   ]
  },
  {
   "cell_type": "code",
   "execution_count": 11,
   "id": "bb2dbf58",
   "metadata": {
    "scrolled": false
   },
   "outputs": [
    {
     "name": "stdout",
     "output_type": "stream",
     "text": [
      "Please insert the name of the song that you like: hurricane\n"
     ]
    }
   ],
   "source": [
    "user_input = input(\"Please insert the name of the song that you like: \").lower()"
   ]
  },
  {
   "cell_type": "markdown",
   "id": "f936ebd6",
   "metadata": {},
   "source": [
    "5. Check if it is among the top songs database"
   ]
  },
  {
   "cell_type": "code",
   "execution_count": 12,
   "id": "eb6a9eef",
   "metadata": {},
   "outputs": [
    {
     "name": "stdout",
     "output_type": "stream",
     "text": [
      "TOP recommendation! A similar song to Hurricane that you might like is Don't go yet, by Camila cabello.\n"
     ]
    }
   ],
   "source": [
    "top_song = is_top_song(user_input, top_df)  #This value will be [] if there are no similar songs\n",
    "\n",
    "if top_song != []:\n",
    "    if len(top_song) == 1:\n",
    "        top_recommended = recommend_top_song(top_song[0], top_df)\n",
    "    else:\n",
    "        song_choice = choice(top_song, spotify_df, sp, names_or_ids=\"names\")\n",
    "        top_recommended = recommend_top_song(song_choice, top_df)"
   ]
  },
  {
   "cell_type": "markdown",
   "id": "ee941015",
   "metadata": {},
   "source": [
    "6. If it is not, search in the Spotify songs dataframe"
   ]
  },
  {
   "cell_type": "code",
   "execution_count": 13,
   "id": "f2e107d0",
   "metadata": {
    "scrolled": false
   },
   "outputs": [
    {
     "name": "stdout",
     "output_type": "stream",
     "text": [
      "['0RbW8kWozrVSIGb4V13o0o', '6xHI9KjUjYT0FPtGO8Mxa1', '3KvyWiReIKqe3xJFL2qTPX', '7gQ5c5HY6zMsIck6QLY9dJ', '3s5NrHgyTkuinl0TgHCHeK', '7g0W6gCE9pHlnog8WLxr4a', '36GbZPJbjuxw4BahR1gPdM', '1tLp9KH0j1HoKdS1vnvkxO', '1pY0xt2c2NCnkEYbuWQjUG', '5XM0sOAUSCb4P7Q6G1w3jf', '3JoJjPXHPHvLXQRUiNbKfa', '2GFwwTIVLjnOrtP7m9luHC', '0fY2YiLKlxpcM3IghwmgeO']\n"
     ]
    }
   ],
   "source": [
    "spoti_song = is_spotify_song(user_input, spotify_df)\n",
    "print(spoti_song)"
   ]
  },
  {
   "cell_type": "markdown",
   "id": "0a7f3426",
   "metadata": {},
   "source": [
    "### Possible cases:"
   ]
  },
  {
   "cell_type": "markdown",
   "id": "a2d7fdb8",
   "metadata": {},
   "source": [
    "- No matches in the database: we search possible tracks through the Spotify API. If there are any possibilities, we ask the user to make a choice. If not, we tell them there are no matches."
   ]
  },
  {
   "cell_type": "code",
   "execution_count": 15,
   "id": "1a1a104c",
   "metadata": {},
   "outputs": [],
   "source": [
    "if spoti_song == []:\n",
    "    print(\"No matches found in our songs database! Searching Spotify for options.\")\n",
    "    possible_tracks = spotify_helper_functions.find_possible_songs(user_input,sp)\n",
    "    if possible_tracks:\n",
    "        song_choice_id = choice(list(possible_tracks.values()), spotify_df, sp)\n",
    "        for _ in range(n):\n",
    "            spoti_recommended = recommend_spotify_song(song_choice_id, spotify_df, model, sp)\n",
    "    else:\n",
    "        print(\"Sorry, we didn't find any matches in Spotify\")"
   ]
  },
  {
   "cell_type": "markdown",
   "id": "1356128f",
   "metadata": {},
   "source": [
    "- If there is only one match in the database, we present the recommendations directly based on that one song."
   ]
  },
  {
   "cell_type": "code",
   "execution_count": 23,
   "id": "30f3268f",
   "metadata": {},
   "outputs": [],
   "source": [
    "if len(spoti_song) == 1:\n",
    "    song_id = spoti_song[0]\n",
    "    song_info = spotify_helper_functions.get_song_info(song_id, sp)\n",
    "    print(f\"One match found in our songs database! {song_info[0].capitalize()}, by {song_info[1].capitalize()}\")\n",
    "    for _ in range(n):\n",
    "        spoti_recommended = recommend_spotify_song(spoti_song[0], spotify_df, model, sp)\n"
   ]
  },
  {
   "cell_type": "markdown",
   "id": "a7d679be",
   "metadata": {},
   "source": [
    "- If there is more than one match found in our database, we present the user with the options and then make the recommendation based on that."
   ]
  },
  {
   "cell_type": "code",
   "execution_count": 20,
   "id": "145102cd",
   "metadata": {},
   "outputs": [
    {
     "name": "stdout",
     "output_type": "stream",
     "text": [
      "Several matches found in our songs database!\n",
      "Select one of the following choices:\n",
      "Option 1 - Hurricane by Kanye West\n",
      "Option 2 - Hurricane by Luke Combs\n",
      "Option 3 - Hurricane by Lisa Loeb & Nine Stories\n",
      "Option 4 - Hurricane by Bridgit Mendler\n",
      "Option 5 - Hurricane by The Band Of Heathens\n",
      "Option 6 - Hurricane by Ella Fence\n",
      "Option 7 - Hurricane by Wafia\n",
      "Option 8 - Hurricane by Fleurie\n",
      "Option 9 - Hurricane by Sidney Charles\n",
      "Option 10 - Hurricane by The Choir\n",
      "Option 11 - Hurricane by Buried In Verona\n",
      "Option 12 - Hurricane by I Prevail\n",
      "Option 13 - Hurricane by The Asteroids Galaxy Tour\n",
      "Selection: 8\n",
      "Spotify recommendation! A song you might like is Sunday morning, by Nico! \n",
      "Spotify recommendation! A song you might like is I want to see the bright lights tonight, by Raissa! \n",
      "Spotify recommendation! A song you might like is Cant help falling in love with you, by Eminemmylou! \n",
      "Spotify recommendation! A song you might like is Burn rubber again - remix, by Azchike! \n",
      "Spotify recommendation! A song you might like is Walk, by Peakboy! \n"
     ]
    }
   ],
   "source": [
    "if len(spoti_song) > 1:\n",
    "    print(\"Several matches found in our songs database!\")\n",
    "    song_choice_id = choice(spoti_song, spotify_df, sp)\n",
    "    for _ in range(n):\n",
    "        spoti_recommended = recommend_spotify_song(song_choice_id, spotify_df, model, sp)\n"
   ]
  }
 ],
 "metadata": {
  "kernelspec": {
   "display_name": "Python 3 (ipykernel)",
   "language": "python",
   "name": "python3"
  },
  "language_info": {
   "codemirror_mode": {
    "name": "ipython",
    "version": 3
   },
   "file_extension": ".py",
   "mimetype": "text/x-python",
   "name": "python",
   "nbconvert_exporter": "python",
   "pygments_lexer": "ipython3",
   "version": "3.9.6"
  }
 },
 "nbformat": 4,
 "nbformat_minor": 5
}
