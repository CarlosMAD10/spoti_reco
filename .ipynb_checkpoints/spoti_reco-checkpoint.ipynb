{
 "cells": [
  {
   "cell_type": "markdown",
   "id": "8b63990d",
   "metadata": {},
   "source": [
    "# Music recommender\n",
    "\n",
    "Based on the Spotify API. Click on the cell below and press on run!"
   ]
  },
  {
   "cell_type": "code",
   "execution_count": 1,
   "id": "612b1ffa",
   "metadata": {},
   "outputs": [
    {
     "name": "stdout",
     "output_type": "stream",
     "text": [
      "Please insert the name of the song that you like: como una ola\n",
      "Select one of the following choices:\n",
      "Option 1 - Como una Ola by Rocío Jurado\n",
      "Option 2 - Como una Ola - Remasterizado by Rocío Jurado\n",
      "Option 3 - Como Una Ola En El Mar (Como Uma Onda No Mar (Zen Surfismo)) by Alexandre Pires\n",
      "Option 4 - Como Una Ola by Diego Torres\n",
      "Option 5 - Cómo una lluvia de sexo by Uriel Lozano\n",
      "Selection:1\n",
      "Spotify recommendation! A song you might like is man's world, by marina! \n"
     ]
    }
   ],
   "source": [
    "import recommender\n",
    "recommender.main()"
   ]
  }
 ],
 "metadata": {
  "kernelspec": {
   "display_name": "Python 3 (ipykernel)",
   "language": "python",
   "name": "python3"
  },
  "language_info": {
   "codemirror_mode": {
    "name": "ipython",
    "version": 3
   },
   "file_extension": ".py",
   "mimetype": "text/x-python",
   "name": "python",
   "nbconvert_exporter": "python",
   "pygments_lexer": "ipython3",
   "version": "3.9.6"
  }
 },
 "nbformat": 4,
 "nbformat_minor": 5
}
