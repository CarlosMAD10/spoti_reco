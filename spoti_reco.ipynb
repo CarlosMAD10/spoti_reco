{
 "cells": [
  {
   "cell_type": "markdown",
   "id": "affd5883",
   "metadata": {},
   "source": [
    "# Music recommender\n",
    "\n",
    "Based on the Spotify API. Click on the cell below and press on run!"
   ]
  },
  {
   "cell_type": "code",
   "execution_count": 1,
   "id": "27141854",
   "metadata": {},
   "outputs": [
    {
     "name": "stdout",
     "output_type": "stream",
     "text": [
      "Please insert the name of the song that you like: hurricane\n",
      "TOP recommendation! A similar song to Hurricane that you might like is Jonah, by Kanye west.\n"
     ]
    }
   ],
   "source": [
    "import recommender\n",
    "recommender.main()"
   ]
  }
 ],
 "metadata": {
  "kernelspec": {
   "display_name": "Python 3 (ipykernel)",
   "language": "python",
   "name": "python3"
  },
  "language_info": {
   "codemirror_mode": {
    "name": "ipython",
    "version": 3
   },
   "file_extension": ".py",
   "mimetype": "text/x-python",
   "name": "python",
   "nbconvert_exporter": "python",
   "pygments_lexer": "ipython3",
   "version": "3.9.6"
  }
 },
 "nbformat": 4,
 "nbformat_minor": 5
}
