{
 "cells": [
  {
   "cell_type": "markdown",
   "id": "eef6292d",
   "metadata": {},
   "source": [
    "# Music recommender\n",
    "\n",
    "Based on the Spotify API. Click on the cell below and press on run!"
   ]
  },
  {
   "cell_type": "code",
   "execution_count": 1,
   "id": "9af0707e",
   "metadata": {
    "scrolled": true
   },
   "outputs": [
    {
     "name": "stdout",
     "output_type": "stream",
     "text": [
      "Please insert the name of the song that you like: jenja\n",
      "No matches found in our songs database! Searching Spotify for options.\n",
      "Select one of the following choices:\n",
      "Option 1 - On The Beach - Kryder & JenJammin Sax Edit by York\n",
      "Option 2 - On The Beach - Kryder & JenJammin Sax Extended Edit by York\n",
      "Option 3 - Ruang Tanpa Jenjang by Hursa\n",
      "Option 4 - Jenja by Lily Pita\n",
      "Option 5 - JenJam by Sunz of Alien Technology\n",
      "Option 6 - Jenjay by Sarazino\n",
      "Option 7 - Jenjan Masibol by Hugh Charlec\n",
      "Option 8 - Jenjang Asmara by Glamendy\n",
      "Option 9 - Night at Jenja by Kaiser Waldon\n",
      "Selection: 4\n",
      "Spotify recommendation! A song you might like is Kashokusei: idol shoukougun, by __ (underbar)! \n",
      "Spotify recommendation! A song you might like is She dances, by Billie marten! \n",
      "Spotify recommendation! A song you might like is New shoes, by Overcoats! \n",
      "Spotify recommendation! A song you might like is Song about a girl, by Eric paslay! \n",
      "Spotify recommendation! A song you might like is Barracuda, by John cale! \n"
     ]
    }
   ],
   "source": [
    "import recommender\n",
    "recommender.main()"
   ]
  }
 ],
 "metadata": {
  "kernelspec": {
   "display_name": "Python 3 (ipykernel)",
   "language": "python",
   "name": "python3"
  },
  "language_info": {
   "codemirror_mode": {
    "name": "ipython",
    "version": 3
   },
   "file_extension": ".py",
   "mimetype": "text/x-python",
   "name": "python",
   "nbconvert_exporter": "python",
   "pygments_lexer": "ipython3",
   "version": "3.9.6"
  }
 },
 "nbformat": 4,
 "nbformat_minor": 5
}
